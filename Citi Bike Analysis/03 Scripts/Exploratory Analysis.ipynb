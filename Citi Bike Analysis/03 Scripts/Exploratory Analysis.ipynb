{
 "cells": [
  {
   "cell_type": "markdown",
   "id": "d5440e5d",
   "metadata": {},
   "source": [
    "# Import Data and Libraries"
   ]
  },
  {
   "cell_type": "code",
   "execution_count": 1,
   "id": "f122cc75",
   "metadata": {},
   "outputs": [],
   "source": [
    "import pandas as pd\n",
    "import numpy as np\n",
    "import os\n",
    "import matplotlib.pyplot as plt\n",
    "import seaborn as sns\n",
    "import scipy"
   ]
  },
  {
   "cell_type": "code",
   "execution_count": 2,
   "id": "6faa7499",
   "metadata": {},
   "outputs": [],
   "source": [
    "# create path\n",
    "path = r'/Users/mimielaurant/Documents/Career Foundry/Immersion_Achievement 6/Citibike Project'"
   ]
  },
  {
   "cell_type": "code",
   "execution_count": 3,
   "id": "dee6832f",
   "metadata": {},
   "outputs": [],
   "source": [
    "# import file\n",
    "data = pd.read_csv(os.path.join(path, '02 Data', 'Prepared Data', 'citibikes_new.csv'), index_col = False)"
   ]
  },
  {
   "cell_type": "code",
   "execution_count": 4,
   "id": "ca4194ff",
   "metadata": {},
   "outputs": [
    {
     "data": {
      "text/html": [
       "<div>\n",
       "<style scoped>\n",
       "    .dataframe tbody tr th:only-of-type {\n",
       "        vertical-align: middle;\n",
       "    }\n",
       "\n",
       "    .dataframe tbody tr th {\n",
       "        vertical-align: top;\n",
       "    }\n",
       "\n",
       "    .dataframe thead th {\n",
       "        text-align: right;\n",
       "    }\n",
       "</style>\n",
       "<table border=\"1\" class=\"dataframe\">\n",
       "  <thead>\n",
       "    <tr style=\"text-align: right;\">\n",
       "      <th></th>\n",
       "      <th>Unnamed: 0</th>\n",
       "      <th>trip_id</th>\n",
       "      <th>bike_id</th>\n",
       "      <th>weekday</th>\n",
       "      <th>start_hour</th>\n",
       "      <th>start_time</th>\n",
       "      <th>start_station_id</th>\n",
       "      <th>start_station_name</th>\n",
       "      <th>start_station_latitude</th>\n",
       "      <th>start_station_longitude</th>\n",
       "      <th>...</th>\n",
       "      <th>end_station_name</th>\n",
       "      <th>end_station_latitude</th>\n",
       "      <th>end_station_longitude</th>\n",
       "      <th>trip_duration</th>\n",
       "      <th>subscriber</th>\n",
       "      <th>birth_year</th>\n",
       "      <th>gender</th>\n",
       "      <th>age</th>\n",
       "      <th>Trip Range</th>\n",
       "      <th>trip_minutes</th>\n",
       "    </tr>\n",
       "  </thead>\n",
       "  <tbody>\n",
       "    <tr>\n",
       "      <th>0</th>\n",
       "      <td>0</td>\n",
       "      <td>LnQzQk</td>\n",
       "      <td>16013</td>\n",
       "      <td>Mon</td>\n",
       "      <td>18</td>\n",
       "      <td>2013-09-09 18:18:55</td>\n",
       "      <td>523</td>\n",
       "      <td>W 38 St &amp; 8 Ave</td>\n",
       "      <td>40.754666</td>\n",
       "      <td>-73.991382</td>\n",
       "      <td>...</td>\n",
       "      <td>W 20 St &amp; 7 Ave</td>\n",
       "      <td>40.742388</td>\n",
       "      <td>-73.997262</td>\n",
       "      <td>993</td>\n",
       "      <td>Subscriber</td>\n",
       "      <td>1968-01-01</td>\n",
       "      <td>2</td>\n",
       "      <td>45.692282</td>\n",
       "      <td>long trip</td>\n",
       "      <td>16</td>\n",
       "    </tr>\n",
       "    <tr>\n",
       "      <th>1</th>\n",
       "      <td>1</td>\n",
       "      <td>IL9boN</td>\n",
       "      <td>15230</td>\n",
       "      <td>Thu</td>\n",
       "      <td>18</td>\n",
       "      <td>2013-09-12 18:38:53</td>\n",
       "      <td>257</td>\n",
       "      <td>Lispenard St &amp; Broadway</td>\n",
       "      <td>40.719392</td>\n",
       "      <td>-74.002472</td>\n",
       "      <td>...</td>\n",
       "      <td>St Marks Pl &amp; 2 Ave</td>\n",
       "      <td>40.728419</td>\n",
       "      <td>-73.987140</td>\n",
       "      <td>581</td>\n",
       "      <td>Subscriber</td>\n",
       "      <td>1983-01-01</td>\n",
       "      <td>1</td>\n",
       "      <td>30.699541</td>\n",
       "      <td>average trip</td>\n",
       "      <td>9</td>\n",
       "    </tr>\n",
       "    <tr>\n",
       "      <th>2</th>\n",
       "      <td>2</td>\n",
       "      <td>46clGB</td>\n",
       "      <td>17942</td>\n",
       "      <td>Wed</td>\n",
       "      <td>19</td>\n",
       "      <td>2013-09-18 19:44:04</td>\n",
       "      <td>479</td>\n",
       "      <td>9 Ave &amp; W 45 St</td>\n",
       "      <td>40.760193</td>\n",
       "      <td>-73.991255</td>\n",
       "      <td>...</td>\n",
       "      <td>W 56 St &amp; 10 Ave</td>\n",
       "      <td>40.768254</td>\n",
       "      <td>-73.988639</td>\n",
       "      <td>361</td>\n",
       "      <td>Subscriber</td>\n",
       "      <td>1989-01-01</td>\n",
       "      <td>1</td>\n",
       "      <td>24.714600</td>\n",
       "      <td>average trip</td>\n",
       "      <td>6</td>\n",
       "    </tr>\n",
       "    <tr>\n",
       "      <th>3</th>\n",
       "      <td>3</td>\n",
       "      <td>v7vdFt</td>\n",
       "      <td>19683</td>\n",
       "      <td>Sat</td>\n",
       "      <td>11</td>\n",
       "      <td>2013-09-28 11:54:37</td>\n",
       "      <td>527</td>\n",
       "      <td>E 33 St &amp; 1 Ave</td>\n",
       "      <td>40.743156</td>\n",
       "      <td>-73.974347</td>\n",
       "      <td>...</td>\n",
       "      <td>E 52 St &amp; 2 Ave</td>\n",
       "      <td>40.756014</td>\n",
       "      <td>-73.967416</td>\n",
       "      <td>561</td>\n",
       "      <td>Subscriber</td>\n",
       "      <td>1988-01-01</td>\n",
       "      <td>2</td>\n",
       "      <td>25.743160</td>\n",
       "      <td>average trip</td>\n",
       "      <td>9</td>\n",
       "    </tr>\n",
       "    <tr>\n",
       "      <th>4</th>\n",
       "      <td>4</td>\n",
       "      <td>VGBsb5</td>\n",
       "      <td>18024</td>\n",
       "      <td>Sat</td>\n",
       "      <td>18</td>\n",
       "      <td>2013-09-07 18:08:22</td>\n",
       "      <td>521</td>\n",
       "      <td>8 Ave &amp; W 31 St</td>\n",
       "      <td>40.750450</td>\n",
       "      <td>-73.994811</td>\n",
       "      <td>...</td>\n",
       "      <td>E 31 St &amp; 3 Ave</td>\n",
       "      <td>40.743943</td>\n",
       "      <td>-73.979661</td>\n",
       "      <td>2296</td>\n",
       "      <td>Non-Subscriber</td>\n",
       "      <td>1978-01-01</td>\n",
       "      <td>0</td>\n",
       "      <td>35.685211</td>\n",
       "      <td>long trip</td>\n",
       "      <td>38</td>\n",
       "    </tr>\n",
       "  </tbody>\n",
       "</table>\n",
       "<p>5 rows × 22 columns</p>\n",
       "</div>"
      ],
      "text/plain": [
       "   Unnamed: 0 trip_id  bike_id weekday  start_hour           start_time  \\\n",
       "0           0  LnQzQk    16013     Mon          18  2013-09-09 18:18:55   \n",
       "1           1  IL9boN    15230     Thu          18  2013-09-12 18:38:53   \n",
       "2           2  46clGB    17942     Wed          19  2013-09-18 19:44:04   \n",
       "3           3  v7vdFt    19683     Sat          11  2013-09-28 11:54:37   \n",
       "4           4  VGBsb5    18024     Sat          18  2013-09-07 18:08:22   \n",
       "\n",
       "   start_station_id       start_station_name  start_station_latitude  \\\n",
       "0               523          W 38 St & 8 Ave               40.754666   \n",
       "1               257  Lispenard St & Broadway               40.719392   \n",
       "2               479          9 Ave & W 45 St               40.760193   \n",
       "3               527          E 33 St & 1 Ave               40.743156   \n",
       "4               521          8 Ave & W 31 St               40.750450   \n",
       "\n",
       "   start_station_longitude  ...     end_station_name  end_station_latitude  \\\n",
       "0               -73.991382  ...      W 20 St & 7 Ave             40.742388   \n",
       "1               -74.002472  ...  St Marks Pl & 2 Ave             40.728419   \n",
       "2               -73.991255  ...     W 56 St & 10 Ave             40.768254   \n",
       "3               -73.974347  ...      E 52 St & 2 Ave             40.756014   \n",
       "4               -73.994811  ...      E 31 St & 3 Ave             40.743943   \n",
       "\n",
       "  end_station_longitude  trip_duration      subscriber  birth_year gender  \\\n",
       "0            -73.997262            993      Subscriber  1968-01-01      2   \n",
       "1            -73.987140            581      Subscriber  1983-01-01      1   \n",
       "2            -73.988639            361      Subscriber  1989-01-01      1   \n",
       "3            -73.967416            561      Subscriber  1988-01-01      2   \n",
       "4            -73.979661           2296  Non-Subscriber  1978-01-01      0   \n",
       "\n",
       "         age    Trip Range  trip_minutes  \n",
       "0  45.692282     long trip            16  \n",
       "1  30.699541  average trip             9  \n",
       "2  24.714600  average trip             6  \n",
       "3  25.743160  average trip             9  \n",
       "4  35.685211     long trip            38  \n",
       "\n",
       "[5 rows x 22 columns]"
      ]
     },
     "execution_count": 4,
     "metadata": {},
     "output_type": "execute_result"
    }
   ],
   "source": [
    "data.head()"
   ]
  },
  {
   "cell_type": "code",
   "execution_count": 5,
   "id": "7d28ff73",
   "metadata": {},
   "outputs": [],
   "source": [
    "# drop unnamed column\n",
    "data = data.drop(columns = ['Unnamed: 0'])"
   ]
  },
  {
   "cell_type": "code",
   "execution_count": 6,
   "id": "a00e21bc",
   "metadata": {},
   "outputs": [
    {
     "data": {
      "text/plain": [
       "Index(['trip_id', 'bike_id', 'weekday', 'start_hour', 'start_time',\n",
       "       'start_station_id', 'start_station_name', 'start_station_latitude',\n",
       "       'start_station_longitude', 'end_time', 'end_station_id',\n",
       "       'end_station_name', 'end_station_latitude', 'end_station_longitude',\n",
       "       'trip_duration', 'subscriber', 'birth_year', 'gender', 'age',\n",
       "       'Trip Range', 'trip_minutes'],\n",
       "      dtype='object')"
      ]
     },
     "execution_count": 6,
     "metadata": {},
     "output_type": "execute_result"
    }
   ],
   "source": [
    "data.columns"
   ]
  },
  {
   "cell_type": "code",
   "execution_count": 7,
   "id": "0abe0724",
   "metadata": {},
   "outputs": [
    {
     "data": {
      "text/plain": [
       "(49977, 21)"
      ]
     },
     "execution_count": 7,
     "metadata": {},
     "output_type": "execute_result"
    }
   ],
   "source": [
    "data.shape"
   ]
  },
  {
   "cell_type": "markdown",
   "id": "cb3badb1",
   "metadata": {},
   "source": [
    "# Most popular dates for rentals"
   ]
  },
  {
   "cell_type": "code",
   "execution_count": 8,
   "id": "cfe6e946",
   "metadata": {},
   "outputs": [
    {
     "data": {
      "text/plain": [
       "weekday\n",
       "Fri    7308\n",
       "Mon    7712\n",
       "Sat    6507\n",
       "Sun    7315\n",
       "Thu    6849\n",
       "Tue    7062\n",
       "Wed    7224\n",
       "Name: trip_id, dtype: int64"
      ]
     },
     "execution_count": 8,
     "metadata": {},
     "output_type": "execute_result"
    }
   ],
   "source": [
    "# sort rentals by weekday\n",
    "data.groupby('weekday')['trip_id'].count()"
   ]
  },
  {
   "cell_type": "code",
   "execution_count": 9,
   "id": "26b311f0",
   "metadata": {},
   "outputs": [],
   "source": [
    "trip_counts = data.groupby('weekday')['trip_id'].count().sort_values()"
   ]
  },
  {
   "cell_type": "code",
   "execution_count": 10,
   "id": "fc71766c",
   "metadata": {},
   "outputs": [
    {
     "data": {
      "image/png": "[encoded data removed]",
      "text/plain": [
       "<Figure size 640x480 with 1 Axes>"
      ]
     },
     "metadata": {},
     "output_type": "display_data"
    }
   ],
   "source": [
    "# Create a bar chart\n",
    "plt.bar(trip_counts.index, trip_counts.values, color='skyblue')\n",
    "\n",
    "# Customize the chart\n",
    "plt.title('Trips per Day')\n",
    "plt.xlabel('Weekday')\n",
    "plt.ylabel('Number of Trips')\n",
    "\n",
    "# Save the chart to an image file (e.g., PNG)\n",
    "plt.savefig('Trips_per_Day.png')\n",
    "\n",
    "# Show the chart\n",
    "plt.show()"
   ]
  },
  {
   "cell_type": "markdown",
   "id": "741d2a55",
   "metadata": {},
   "source": [
    "# Most popular times of day for rentals"
   ]
  },
  {
   "cell_type": "code",
   "execution_count": 11,
   "id": "4f081b65",
   "metadata": {},
   "outputs": [],
   "source": [
    "# sort rentals by hour\n",
    "hour_counts = data.groupby('start_hour')['trip_id'].count().sort_values()"
   ]
  },
  {
   "cell_type": "code",
   "execution_count": 12,
   "id": "12b82dc1",
   "metadata": {},
   "outputs": [
    {
     "data": {
      "text/plain": [
       "start_hour\n",
       "4       89\n",
       "3      120\n",
       "2      194\n",
       "5      208\n",
       "1      330\n",
       "0      522\n",
       "6      911\n",
       "23     932\n",
       "22    1323\n",
       "21    1536\n",
       "7     2037\n",
       "10    2166\n",
       "20    2207\n",
       "11    2272\n",
       "9     2811\n",
       "12    2899\n",
       "13    2978\n",
       "14    3002\n",
       "15    3129\n",
       "8     3283\n",
       "19    3302\n",
       "16    3790\n",
       "18    4869\n",
       "17    5067\n",
       "Name: trip_id, dtype: int64"
      ]
     },
     "execution_count": 12,
     "metadata": {},
     "output_type": "execute_result"
    }
   ],
   "source": [
    "hour_counts"
   ]
  },
  {
   "cell_type": "code",
   "execution_count": 13,
   "id": "50711850",
   "metadata": {},
   "outputs": [
    {
     "data": {
      "image/png": "[encoded data removed]",
      "text/plain": [
       "<Figure size 640x480 with 1 Axes>"
      ]
     },
     "metadata": {},
     "output_type": "display_data"
    }
   ],
   "source": [
    "# Create a bar chart\n",
    "plt.bar(hour_counts.index, hour_counts.values, color='navy')\n",
    "\n",
    "# Customize the chart\n",
    "plt.title('Trips per Hour')\n",
    "plt.xlabel('Hour')\n",
    "plt.ylabel('Number of Trips')\n",
    "\n",
    "# Save the chart to an image file (e.g., PNG)\n",
    "plt.savefig('Trips_per_Hour.png')\n",
    "\n",
    "# Show the chart\n",
    "plt.show()"
   ]
  },
  {
   "cell_type": "markdown",
   "id": "81b7d5d7",
   "metadata": {},
   "source": [
    "# Trips by day and time"
   ]
  },
  {
   "cell_type": "code",
   "execution_count": 8,
   "id": "3a850ff5",
   "metadata": {},
   "outputs": [],
   "source": [
    "# sort rentals by weekday and time\n",
    "grouped_data = data.groupby(['weekday', 'start_hour'])['trip_id'].count().reset_index()"
   ]
  },
  {
   "cell_type": "code",
   "execution_count": 9,
   "id": "33fb0678",
   "metadata": {},
   "outputs": [
    {
     "data": {
      "text/html": [
       "<div>\n",
       "<style scoped>\n",
       "    .dataframe tbody tr th:only-of-type {\n",
       "        vertical-align: middle;\n",
       "    }\n",
       "\n",
       "    .dataframe tbody tr th {\n",
       "        vertical-align: top;\n",
       "    }\n",
       "\n",
       "    .dataframe thead th {\n",
       "        text-align: right;\n",
       "    }\n",
       "</style>\n",
       "<table border=\"1\" class=\"dataframe\">\n",
       "  <thead>\n",
       "    <tr style=\"text-align: right;\">\n",
       "      <th></th>\n",
       "      <th>weekday</th>\n",
       "      <th>start_hour</th>\n",
       "      <th>trip_id</th>\n",
       "    </tr>\n",
       "  </thead>\n",
       "  <tbody>\n",
       "    <tr>\n",
       "      <th>0</th>\n",
       "      <td>Fri</td>\n",
       "      <td>0</td>\n",
       "      <td>56</td>\n",
       "    </tr>\n",
       "    <tr>\n",
       "      <th>1</th>\n",
       "      <td>Fri</td>\n",
       "      <td>1</td>\n",
       "      <td>38</td>\n",
       "    </tr>\n",
       "    <tr>\n",
       "      <th>2</th>\n",
       "      <td>Fri</td>\n",
       "      <td>2</td>\n",
       "      <td>27</td>\n",
       "    </tr>\n",
       "    <tr>\n",
       "      <th>3</th>\n",
       "      <td>Fri</td>\n",
       "      <td>3</td>\n",
       "      <td>13</td>\n",
       "    </tr>\n",
       "    <tr>\n",
       "      <th>4</th>\n",
       "      <td>Fri</td>\n",
       "      <td>4</td>\n",
       "      <td>10</td>\n",
       "    </tr>\n",
       "    <tr>\n",
       "      <th>...</th>\n",
       "      <td>...</td>\n",
       "      <td>...</td>\n",
       "      <td>...</td>\n",
       "    </tr>\n",
       "    <tr>\n",
       "      <th>163</th>\n",
       "      <td>Wed</td>\n",
       "      <td>19</td>\n",
       "      <td>523</td>\n",
       "    </tr>\n",
       "    <tr>\n",
       "      <th>164</th>\n",
       "      <td>Wed</td>\n",
       "      <td>20</td>\n",
       "      <td>333</td>\n",
       "    </tr>\n",
       "    <tr>\n",
       "      <th>165</th>\n",
       "      <td>Wed</td>\n",
       "      <td>21</td>\n",
       "      <td>228</td>\n",
       "    </tr>\n",
       "    <tr>\n",
       "      <th>166</th>\n",
       "      <td>Wed</td>\n",
       "      <td>22</td>\n",
       "      <td>211</td>\n",
       "    </tr>\n",
       "    <tr>\n",
       "      <th>167</th>\n",
       "      <td>Wed</td>\n",
       "      <td>23</td>\n",
       "      <td>125</td>\n",
       "    </tr>\n",
       "  </tbody>\n",
       "</table>\n",
       "<p>168 rows × 3 columns</p>\n",
       "</div>"
      ],
      "text/plain": [
       "    weekday  start_hour  trip_id\n",
       "0       Fri           0       56\n",
       "1       Fri           1       38\n",
       "2       Fri           2       27\n",
       "3       Fri           3       13\n",
       "4       Fri           4       10\n",
       "..      ...         ...      ...\n",
       "163     Wed          19      523\n",
       "164     Wed          20      333\n",
       "165     Wed          21      228\n",
       "166     Wed          22      211\n",
       "167     Wed          23      125\n",
       "\n",
       "[168 rows x 3 columns]"
      ]
     },
     "execution_count": 9,
     "metadata": {},
     "output_type": "execute_result"
    }
   ],
   "source": [
    "grouped_data"
   ]
  },
  {
   "cell_type": "code",
   "execution_count": 10,
   "id": "f9bebf0a",
   "metadata": {},
   "outputs": [],
   "source": [
    "grouped_data = grouped_data.sort_values(by='trip_id', ascending=False)"
   ]
  },
  {
   "cell_type": "code",
   "execution_count": 11,
   "id": "cb21acd2",
   "metadata": {},
   "outputs": [],
   "source": [
    "# export \n",
    "grouped_data.to_csv(os.path.join(path, '02 Data', 'Prepared Data', 'timeslots.csv'))"
   ]
  },
  {
   "cell_type": "code",
   "execution_count": 17,
   "id": "35ec28c8",
   "metadata": {},
   "outputs": [
    {
     "name": "stdout",
     "output_type": "stream",
     "text": [
      "    weekday  start_hour  trip_id\n",
      "42      Mon          18      849\n",
      "41      Mon          17      821\n",
      "17      Fri          17      799\n",
      "162     Wed          18      779\n",
      "137     Tue          17      761\n",
      "138     Tue          18      755\n",
      "114     Thu          18      746\n",
      "161     Wed          17      742\n",
      "113     Thu          17      734\n",
      "87      Sun          15      672\n",
      "88      Sun          16      671\n",
      "152     Wed           8      652\n",
      "18      Fri          18      645\n",
      "89      Sun          17      644\n",
      "128     Tue           8      641\n",
      "104     Thu           8      636\n",
      "86      Sun          14      630\n",
      "85      Sun          13      620\n",
      "84      Sun          12      604\n",
      "63      Sat          15      599\n"
     ]
    }
   ],
   "source": [
    "# sort data to find the 20 most popular times that bikes are rented\n",
    "top_20_timeslots = grouped_data.head(20)\n",
    "print(top_20_timeslots)"
   ]
  },
  {
   "cell_type": "code",
   "execution_count": 18,
   "id": "2dfcaa87",
   "metadata": {},
   "outputs": [],
   "source": [
    "# export \n",
    "top_20_timeslots.to_csv(os.path.join(path, '02 Data', 'Prepared Data', 'top_timeslots.csv'))"
   ]
  },
  {
   "cell_type": "markdown",
   "id": "beee9a67",
   "metadata": {},
   "source": [
    "# Categorizing trips by time of day"
   ]
  },
  {
   "cell_type": "code",
   "execution_count": 19,
   "id": "53f3e8c4",
   "metadata": {},
   "outputs": [],
   "source": [
    "# define times of day groupings\n",
    "def parts_of_day(row):\n",
    "    if row ['start_hour'] <= 4:\n",
    "        return 'late-night ride'\n",
    "    if (row ['start_hour'] > 4) and (row['start_hour'] <= 8):\n",
    "        return 'early-morning ride'\n",
    "    if (row ['start_hour'] > 8) and (row['start_hour'] <= 11):\n",
    "        return 'late_morning ride'\n",
    "    if (row ['start_hour'] > 11) and (row ['start_hour'] <= 14):\n",
    "        return 'early_afternoon ride'\n",
    "    if (row ['start_hour'] > 14) and (row ['start_hour'] <= 16):\n",
    "        return 'late_afternoon ride'\n",
    "    if (row ['start_hour'] > 16) and (row ['start_hour'] <= 18):\n",
    "        return 'early_evening ride'\n",
    "    if (row ['start_hour'] > 18) and (row ['start_hour'] <= 20):\n",
    "        return 'late-evening ride'\n",
    "    else: return 'night ride'\n"
   ]
  },
  {
   "cell_type": "code",
   "execution_count": 20,
   "id": "bf888682",
   "metadata": {},
   "outputs": [],
   "source": [
    "data['trip_type'] = data.apply(parts_of_day, axis=1)"
   ]
  },
  {
   "cell_type": "code",
   "execution_count": 21,
   "id": "75eea719",
   "metadata": {},
   "outputs": [
    {
     "data": {
      "text/html": [
       "<div>\n",
       "<style scoped>\n",
       "    .dataframe tbody tr th:only-of-type {\n",
       "        vertical-align: middle;\n",
       "    }\n",
       "\n",
       "    .dataframe tbody tr th {\n",
       "        vertical-align: top;\n",
       "    }\n",
       "\n",
       "    .dataframe thead th {\n",
       "        text-align: right;\n",
       "    }\n",
       "</style>\n",
       "<table border=\"1\" class=\"dataframe\">\n",
       "  <thead>\n",
       "    <tr style=\"text-align: right;\">\n",
       "      <th></th>\n",
       "      <th>trip_id</th>\n",
       "      <th>bike_id</th>\n",
       "      <th>weekday</th>\n",
       "      <th>start_hour</th>\n",
       "      <th>start_time</th>\n",
       "      <th>start_station_id</th>\n",
       "      <th>start_station_name</th>\n",
       "      <th>start_station_latitude</th>\n",
       "      <th>start_station_longitude</th>\n",
       "      <th>end_time</th>\n",
       "      <th>...</th>\n",
       "      <th>end_station_latitude</th>\n",
       "      <th>end_station_longitude</th>\n",
       "      <th>trip_duration</th>\n",
       "      <th>subscriber</th>\n",
       "      <th>birth_year</th>\n",
       "      <th>gender</th>\n",
       "      <th>age</th>\n",
       "      <th>Trip Range</th>\n",
       "      <th>trip_minutes</th>\n",
       "      <th>trip_type</th>\n",
       "    </tr>\n",
       "  </thead>\n",
       "  <tbody>\n",
       "    <tr>\n",
       "      <th>0</th>\n",
       "      <td>LnQzQk</td>\n",
       "      <td>16013</td>\n",
       "      <td>Mon</td>\n",
       "      <td>18</td>\n",
       "      <td>2013-09-09 18:18:55</td>\n",
       "      <td>523</td>\n",
       "      <td>W 38 St &amp; 8 Ave</td>\n",
       "      <td>40.754666</td>\n",
       "      <td>-73.991382</td>\n",
       "      <td>2013-09-09 18:35:28</td>\n",
       "      <td>...</td>\n",
       "      <td>40.742388</td>\n",
       "      <td>-73.997262</td>\n",
       "      <td>993</td>\n",
       "      <td>Subscriber</td>\n",
       "      <td>1968-01-01</td>\n",
       "      <td>2</td>\n",
       "      <td>45.692282</td>\n",
       "      <td>long trip</td>\n",
       "      <td>16</td>\n",
       "      <td>early_evening ride</td>\n",
       "    </tr>\n",
       "    <tr>\n",
       "      <th>1</th>\n",
       "      <td>IL9boN</td>\n",
       "      <td>15230</td>\n",
       "      <td>Thu</td>\n",
       "      <td>18</td>\n",
       "      <td>2013-09-12 18:38:53</td>\n",
       "      <td>257</td>\n",
       "      <td>Lispenard St &amp; Broadway</td>\n",
       "      <td>40.719392</td>\n",
       "      <td>-74.002472</td>\n",
       "      <td>2013-09-12 18:48:34</td>\n",
       "      <td>...</td>\n",
       "      <td>40.728419</td>\n",
       "      <td>-73.987140</td>\n",
       "      <td>581</td>\n",
       "      <td>Subscriber</td>\n",
       "      <td>1983-01-01</td>\n",
       "      <td>1</td>\n",
       "      <td>30.699541</td>\n",
       "      <td>average trip</td>\n",
       "      <td>9</td>\n",
       "      <td>early_evening ride</td>\n",
       "    </tr>\n",
       "    <tr>\n",
       "      <th>2</th>\n",
       "      <td>46clGB</td>\n",
       "      <td>17942</td>\n",
       "      <td>Wed</td>\n",
       "      <td>19</td>\n",
       "      <td>2013-09-18 19:44:04</td>\n",
       "      <td>479</td>\n",
       "      <td>9 Ave &amp; W 45 St</td>\n",
       "      <td>40.760193</td>\n",
       "      <td>-73.991255</td>\n",
       "      <td>2013-09-18 19:50:05</td>\n",
       "      <td>...</td>\n",
       "      <td>40.768254</td>\n",
       "      <td>-73.988639</td>\n",
       "      <td>361</td>\n",
       "      <td>Subscriber</td>\n",
       "      <td>1989-01-01</td>\n",
       "      <td>1</td>\n",
       "      <td>24.714600</td>\n",
       "      <td>average trip</td>\n",
       "      <td>6</td>\n",
       "      <td>late-evening ride</td>\n",
       "    </tr>\n",
       "    <tr>\n",
       "      <th>3</th>\n",
       "      <td>v7vdFt</td>\n",
       "      <td>19683</td>\n",
       "      <td>Sat</td>\n",
       "      <td>11</td>\n",
       "      <td>2013-09-28 11:54:37</td>\n",
       "      <td>527</td>\n",
       "      <td>E 33 St &amp; 1 Ave</td>\n",
       "      <td>40.743156</td>\n",
       "      <td>-73.974347</td>\n",
       "      <td>2013-09-28 12:03:58</td>\n",
       "      <td>...</td>\n",
       "      <td>40.756014</td>\n",
       "      <td>-73.967416</td>\n",
       "      <td>561</td>\n",
       "      <td>Subscriber</td>\n",
       "      <td>1988-01-01</td>\n",
       "      <td>2</td>\n",
       "      <td>25.743160</td>\n",
       "      <td>average trip</td>\n",
       "      <td>9</td>\n",
       "      <td>late_morning ride</td>\n",
       "    </tr>\n",
       "    <tr>\n",
       "      <th>4</th>\n",
       "      <td>VGBsb5</td>\n",
       "      <td>18024</td>\n",
       "      <td>Sat</td>\n",
       "      <td>18</td>\n",
       "      <td>2013-09-07 18:08:22</td>\n",
       "      <td>521</td>\n",
       "      <td>8 Ave &amp; W 31 St</td>\n",
       "      <td>40.750450</td>\n",
       "      <td>-73.994811</td>\n",
       "      <td>2013-09-07 18:46:38</td>\n",
       "      <td>...</td>\n",
       "      <td>40.743943</td>\n",
       "      <td>-73.979661</td>\n",
       "      <td>2296</td>\n",
       "      <td>Non-Subscriber</td>\n",
       "      <td>1978-01-01</td>\n",
       "      <td>0</td>\n",
       "      <td>35.685211</td>\n",
       "      <td>long trip</td>\n",
       "      <td>38</td>\n",
       "      <td>early_evening ride</td>\n",
       "    </tr>\n",
       "  </tbody>\n",
       "</table>\n",
       "<p>5 rows × 22 columns</p>\n",
       "</div>"
      ],
      "text/plain": [
       "  trip_id  bike_id weekday  start_hour           start_time  start_station_id  \\\n",
       "0  LnQzQk    16013     Mon          18  2013-09-09 18:18:55               523   \n",
       "1  IL9boN    15230     Thu          18  2013-09-12 18:38:53               257   \n",
       "2  46clGB    17942     Wed          19  2013-09-18 19:44:04               479   \n",
       "3  v7vdFt    19683     Sat          11  2013-09-28 11:54:37               527   \n",
       "4  VGBsb5    18024     Sat          18  2013-09-07 18:08:22               521   \n",
       "\n",
       "        start_station_name  start_station_latitude  start_station_longitude  \\\n",
       "0          W 38 St & 8 Ave               40.754666               -73.991382   \n",
       "1  Lispenard St & Broadway               40.719392               -74.002472   \n",
       "2          9 Ave & W 45 St               40.760193               -73.991255   \n",
       "3          E 33 St & 1 Ave               40.743156               -73.974347   \n",
       "4          8 Ave & W 31 St               40.750450               -73.994811   \n",
       "\n",
       "              end_time  ...  end_station_latitude end_station_longitude  \\\n",
       "0  2013-09-09 18:35:28  ...             40.742388            -73.997262   \n",
       "1  2013-09-12 18:48:34  ...             40.728419            -73.987140   \n",
       "2  2013-09-18 19:50:05  ...             40.768254            -73.988639   \n",
       "3  2013-09-28 12:03:58  ...             40.756014            -73.967416   \n",
       "4  2013-09-07 18:46:38  ...             40.743943            -73.979661   \n",
       "\n",
       "   trip_duration      subscriber  birth_year gender        age    Trip Range  \\\n",
       "0            993      Subscriber  1968-01-01      2  45.692282     long trip   \n",
       "1            581      Subscriber  1983-01-01      1  30.699541  average trip   \n",
       "2            361      Subscriber  1989-01-01      1  24.714600  average trip   \n",
       "3            561      Subscriber  1988-01-01      2  25.743160  average trip   \n",
       "4           2296  Non-Subscriber  1978-01-01      0  35.685211     long trip   \n",
       "\n",
       "   trip_minutes           trip_type  \n",
       "0            16  early_evening ride  \n",
       "1             9  early_evening ride  \n",
       "2             6   late-evening ride  \n",
       "3             9   late_morning ride  \n",
       "4            38  early_evening ride  \n",
       "\n",
       "[5 rows x 22 columns]"
      ]
     },
     "execution_count": 21,
     "metadata": {},
     "output_type": "execute_result"
    }
   ],
   "source": [
    "data.head()"
   ]
  },
  {
   "cell_type": "code",
   "execution_count": 22,
   "id": "559e2392",
   "metadata": {},
   "outputs": [],
   "source": [
    "# sort rentals by trip type\n",
    "category_counts = data.groupby('trip_type')['trip_id'].count()"
   ]
  },
  {
   "cell_type": "code",
   "execution_count": 23,
   "id": "435f59f4",
   "metadata": {},
   "outputs": [
    {
     "data": {
      "text/plain": [
       "trip_type\n",
       "early-morning ride      6439\n",
       "early_afternoon ride    8879\n",
       "early_evening ride      9936\n",
       "late-evening ride       5509\n",
       "late-night ride         1255\n",
       "late_afternoon ride     6919\n",
       "late_morning ride       7249\n",
       "night ride              3791\n",
       "Name: trip_id, dtype: int64"
      ]
     },
     "execution_count": 23,
     "metadata": {},
     "output_type": "execute_result"
    }
   ],
   "source": [
    "category_counts"
   ]
  },
  {
   "cell_type": "code",
   "execution_count": null,
   "id": "3792bc1c",
   "metadata": {},
   "outputs": [],
   "source": [
    "# export \n",
    "data.to_csv(os.path.join(path, '02 Data', 'Prepared Data', 'citibike_fresh.csv'))"
   ]
  },
  {
   "cell_type": "code",
   "execution_count": 24,
   "id": "f791f986",
   "metadata": {},
   "outputs": [
    {
     "data": {
      "image/png": "[encoded data removed]",
      "text/plain": [
       "<Figure size 2000x2000 with 1 Axes>"
      ]
     },
     "metadata": {},
     "output_type": "display_data"
    }
   ],
   "source": [
    "# Set the figure size to make the total area wider\n",
    "plt.figure(figsize=(20, 20))  # Adjust width and height as needed\n",
    "\n",
    "# Create a bar chart\n",
    "plt.bar(category_counts.index, category_counts.values, color='mediumblue')\n",
    "\n",
    "# Customize the chart\n",
    "plt.title('Trips per Part of Day')\n",
    "plt.xlabel('Part of Day')\n",
    "plt.ylabel('Number of Trips')\n",
    "\n",
    "# Save the chart to an image file (e.g., PNG)\n",
    "plt.savefig('Trips_per_Part_of_Day.png')\n",
    "\n",
    "# Show the chart\n",
    "plt.show()"
   ]
  },
  {
   "cell_type": "markdown",
   "id": "146fa1f0",
   "metadata": {},
   "source": [
    "# Most/Least Popular Rental Stations"
   ]
  },
  {
   "cell_type": "code",
   "execution_count": 25,
   "id": "015e31a3",
   "metadata": {},
   "outputs": [],
   "source": [
    "# import stations data\n",
    "stations = pd.read_csv(os.path.join(path, '02 Data', 'Prepared Data', 'citibike_stations.csv'), index_col = False)"
   ]
  },
  {
   "cell_type": "code",
   "execution_count": 26,
   "id": "8e3c1635",
   "metadata": {},
   "outputs": [
    {
     "data": {
      "text/html": [
       "<div>\n",
       "<style scoped>\n",
       "    .dataframe tbody tr th:only-of-type {\n",
       "        vertical-align: middle;\n",
       "    }\n",
       "\n",
       "    .dataframe tbody tr th {\n",
       "        vertical-align: top;\n",
       "    }\n",
       "\n",
       "    .dataframe thead th {\n",
       "        text-align: right;\n",
       "    }\n",
       "</style>\n",
       "<table border=\"1\" class=\"dataframe\">\n",
       "  <thead>\n",
       "    <tr style=\"text-align: right;\">\n",
       "      <th></th>\n",
       "      <th>stationid</th>\n",
       "      <th>neighborhood</th>\n",
       "      <th>borough</th>\n",
       "      <th>zipcode</th>\n",
       "      <th>station_name</th>\n",
       "      <th>latitude</th>\n",
       "      <th>longitude</th>\n",
       "      <th>count</th>\n",
       "    </tr>\n",
       "  </thead>\n",
       "  <tbody>\n",
       "    <tr>\n",
       "      <th>0</th>\n",
       "      <td>523</td>\n",
       "      <td>Manhattan Community Board 5</td>\n",
       "      <td>Manhattan</td>\n",
       "      <td>10018.0</td>\n",
       "      <td>W 38 St &amp; 8 Ave</td>\n",
       "      <td>40.754666</td>\n",
       "      <td>-73.991382</td>\n",
       "      <td>228</td>\n",
       "    </tr>\n",
       "    <tr>\n",
       "      <th>1</th>\n",
       "      <td>257</td>\n",
       "      <td>Manhattan Community Board 1</td>\n",
       "      <td>Manhattan</td>\n",
       "      <td>10013.0</td>\n",
       "      <td>Lispenard St &amp; Broadway</td>\n",
       "      <td>40.719392</td>\n",
       "      <td>-74.002472</td>\n",
       "      <td>118</td>\n",
       "    </tr>\n",
       "    <tr>\n",
       "      <th>2</th>\n",
       "      <td>479</td>\n",
       "      <td>Clinton</td>\n",
       "      <td>Manhattan</td>\n",
       "      <td>10019.0</td>\n",
       "      <td>9 Ave &amp; W 45 St</td>\n",
       "      <td>40.760193</td>\n",
       "      <td>-73.991255</td>\n",
       "      <td>226</td>\n",
       "    </tr>\n",
       "    <tr>\n",
       "      <th>3</th>\n",
       "      <td>527</td>\n",
       "      <td>Kips Bay</td>\n",
       "      <td>Manhattan</td>\n",
       "      <td>10016.0</td>\n",
       "      <td>E 33 St &amp; 1 Ave</td>\n",
       "      <td>40.743156</td>\n",
       "      <td>-73.974347</td>\n",
       "      <td>207</td>\n",
       "    </tr>\n",
       "    <tr>\n",
       "      <th>4</th>\n",
       "      <td>521</td>\n",
       "      <td>Manhattan Community Board 4</td>\n",
       "      <td>Manhattan</td>\n",
       "      <td>10122.0</td>\n",
       "      <td>8 Ave &amp; W 31 St</td>\n",
       "      <td>40.750450</td>\n",
       "      <td>-73.994811</td>\n",
       "      <td>410</td>\n",
       "    </tr>\n",
       "  </tbody>\n",
       "</table>\n",
       "</div>"
      ],
      "text/plain": [
       "   stationid                 neighborhood    borough  zipcode  \\\n",
       "0        523  Manhattan Community Board 5  Manhattan  10018.0   \n",
       "1        257  Manhattan Community Board 1  Manhattan  10013.0   \n",
       "2        479                      Clinton  Manhattan  10019.0   \n",
       "3        527                     Kips Bay  Manhattan  10016.0   \n",
       "4        521  Manhattan Community Board 4  Manhattan  10122.0   \n",
       "\n",
       "              station_name   latitude  longitude  count  \n",
       "0          W 38 St & 8 Ave  40.754666 -73.991382    228  \n",
       "1  Lispenard St & Broadway  40.719392 -74.002472    118  \n",
       "2          9 Ave & W 45 St  40.760193 -73.991255    226  \n",
       "3          E 33 St & 1 Ave  40.743156 -73.974347    207  \n",
       "4          8 Ave & W 31 St  40.750450 -73.994811    410  "
      ]
     },
     "execution_count": 26,
     "metadata": {},
     "output_type": "execute_result"
    }
   ],
   "source": [
    "stations.head()"
   ]
  },
  {
   "cell_type": "code",
   "execution_count": 27,
   "id": "c0fc0c1a",
   "metadata": {},
   "outputs": [
    {
     "data": {
      "text/plain": [
       "(330, 8)"
      ]
     },
     "execution_count": 27,
     "metadata": {},
     "output_type": "execute_result"
    }
   ],
   "source": [
    "stations.shape"
   ]
  },
  {
   "cell_type": "code",
   "execution_count": 28,
   "id": "2c3d844e",
   "metadata": {},
   "outputs": [
    {
     "name": "stdout",
     "output_type": "stream",
     "text": [
      "     stationid                 neighborhood    borough  zipcode  \\\n",
      "177        459  Manhattan Community Board 4  Manhattan  10011.0   \n",
      "5          293  Manhattan Community Board 2  Manhattan  10003.0   \n",
      "58         519  Manhattan Community Board 5  Manhattan  10037.0   \n",
      "239        497  Manhattan Community Board 5  Manhattan  10010.0   \n",
      "42         426  Manhattan Community Board 1  Manhattan  10282.0   \n",
      "..         ...                          ...        ...      ...   \n",
      "324        119                          NaN   Brooklyn  11251.0   \n",
      "329        321                        Dumbo   Brooklyn  11201.0   \n",
      "93         372                 Clinton Hill   Brooklyn  11225.0   \n",
      "323       2005                          NaN   Brooklyn  11251.0   \n",
      "328       2001                          NaN   Brooklyn  11251.0   \n",
      "\n",
      "                      station_name   latitude  longitude  count  \n",
      "177               W 20 St & 11 Ave  40.746745 -74.007756    536  \n",
      "5            Lafayette St & E 8 St  40.730287 -73.990765    505  \n",
      "58               Pershing Square N  40.751884 -73.977702    503  \n",
      "239             E 17 St & Broadway  40.737050 -73.990093    496  \n",
      "42           West St & Chambers St  40.717548 -74.013221    465  \n",
      "..                             ...        ...        ...    ...  \n",
      "324       Park Ave & St Edwards St  40.696089 -73.978034     11  \n",
      "329  Cadman Plaza E & Red Cross Pl  40.699918 -73.989718     11  \n",
      "93       Franklin Ave & Myrtle Ave  40.694528 -73.958089      8  \n",
      "323         Railroad Ave & Kay Ave  40.705312 -73.971001      5  \n",
      "328            7 Ave & Farragut St  40.698921 -73.973330      5  \n",
      "\n",
      "[330 rows x 8 columns]\n"
     ]
    }
   ],
   "source": [
    "# sort to find the top 30 stations\n",
    "stations2 = stations.sort_values(by='count', ascending=False)\n",
    "print(stations2)"
   ]
  },
  {
   "cell_type": "code",
   "execution_count": 29,
   "id": "2f9ab8a7",
   "metadata": {},
   "outputs": [
    {
     "name": "stdout",
     "output_type": "stream",
     "text": [
      "     stationid                 neighborhood    borough  zipcode  \\\n",
      "177        459  Manhattan Community Board 4  Manhattan  10011.0   \n",
      "5          293  Manhattan Community Board 2  Manhattan  10003.0   \n",
      "58         519  Manhattan Community Board 5  Manhattan  10037.0   \n",
      "239        497  Manhattan Community Board 5  Manhattan  10010.0   \n",
      "42         426  Manhattan Community Board 1  Manhattan  10282.0   \n",
      "4          521  Manhattan Community Board 4  Manhattan  10122.0   \n",
      "208        382  Manhattan Community Board 2  Manhattan  10003.0   \n",
      "92         285  Manhattan Community Board 2  Manhattan  10003.0   \n",
      "6          380  Manhattan Community Board 2  Manhattan  10014.0   \n",
      "122        477  Manhattan Community Board 5  Manhattan  10036.0   \n",
      "199        499  Manhattan Community Board 7  Manhattan  10463.0   \n",
      "164        284  Manhattan Community Board 2  Manhattan  10014.0   \n",
      "115        435  Manhattan Community Board 4  Manhattan  10011.0   \n",
      "168        151  Manhattan Community Board 2  Manhattan  10012.0   \n",
      "227        444  Manhattan Community Board 5  Manhattan  10019.0   \n",
      "127        318  Manhattan Community Board 5  Manhattan  10017.0   \n",
      "112        347  Manhattan Community Board 2  Manhattan  10014.0   \n",
      "32         116  Manhattan Community Board 4  Manhattan  10011.0   \n",
      "121        402  Manhattan Community Board 5  Manhattan  10010.0   \n",
      "82         368           University Village  Manhattan  10014.0   \n",
      "139        327  Manhattan Community Board 1  Manhattan  10285.0   \n",
      "142        518  Manhattan Community Board 6  Manhattan  10016.0   \n",
      "53         387  Manhattan Community Board 1  Manhattan  10000.0   \n",
      "10         457  Manhattan Community Board 5  Manhattan  10019.0   \n",
      "77         462  Manhattan Community Board 4  Manhattan  10011.0   \n",
      "62         128           University Village  Manhattan  10012.0   \n",
      "144        517  Manhattan Community Board 5  Manhattan  10017.0   \n",
      "97         492                      Chelsea  Manhattan  10001.0   \n",
      "94         127           University Village  Manhattan  10014.0   \n",
      "157        147  Manhattan Community Board 1  Manhattan  10014.0   \n",
      "\n",
      "                 station_name   latitude  longitude  count  \n",
      "177          W 20 St & 11 Ave  40.746745 -74.007756    536  \n",
      "5       Lafayette St & E 8 St  40.730287 -73.990765    505  \n",
      "58          Pershing Square N  40.751884 -73.977702    503  \n",
      "239        E 17 St & Broadway  40.737050 -73.990093    496  \n",
      "42      West St & Chambers St  40.717548 -74.013221    465  \n",
      "4             8 Ave & W 31 St  40.750450 -73.994811    410  \n",
      "208   University Pl & E 14 St  40.734927 -73.992005    405  \n",
      "92         Broadway & E 14 St  40.734546 -73.990741    402  \n",
      "6            W 4 St & 7 Ave S  40.734011 -74.002939    386  \n",
      "122           W 41 St & 8 Ave  40.756405 -73.990026    365  \n",
      "199        Broadway & W 60 St  40.769155 -73.981918    360  \n",
      "164     Greenwich Ave & 8 Ave  40.739017 -74.002638    359  \n",
      "115           W 21 St & 6 Ave  40.741740 -73.994156    349  \n",
      "168  Cleveland Pl & Spring St  40.721816 -73.997203    345  \n",
      "227        Broadway & W 24 St  40.742354 -73.989151    342  \n",
      "127  E 43 St & Vanderbilt Ave  40.753202 -73.977987    328  \n",
      "112  W Houston St & Hudson St  40.728739 -74.007488    304  \n",
      "32            W 17 St & 8 Ave  40.741776 -74.001497    301  \n",
      "121        Broadway & E 22 St  40.740343 -73.989551    300  \n",
      "82         Carmine St & 6 Ave  40.730386 -74.002150    298  \n",
      "139  Vesey Pl & River Terrace  40.715338 -74.016584    293  \n",
      "142           E 39 St & 2 Ave  40.747804 -73.973442    293  \n",
      "53    Centre St & Chambers St  40.712733 -74.004607    290  \n",
      "10         Broadway & W 58 St  40.766953 -73.981693    289  \n",
      "77           W 22 St & 10 Ave  40.746920 -74.004519    289  \n",
      "62   MacDougal St & Prince St  40.727103 -74.002971    288  \n",
      "144         Pershing Square S  40.751493 -73.977988    285  \n",
      "97            W 33 St & 7 Ave  40.750200 -73.990931    285  \n",
      "94      Barrow St & Hudson St  40.731724 -74.006744    283  \n",
      "157  Greenwich St & Warren St  40.715422 -74.011220    281  \n"
     ]
    }
   ],
   "source": [
    "top_30 = stations2.head(30)\n",
    "print(top_30)"
   ]
  },
  {
   "cell_type": "code",
   "execution_count": null,
   "id": "395b2ddb",
   "metadata": {},
   "outputs": [],
   "source": [
    "# export \n",
    "top_30.to_csv(os.path.join(path, '02 Data', 'Prepared Data', 'top_30_stations.csv'))"
   ]
  },
  {
   "cell_type": "code",
   "execution_count": 30,
   "id": "52402bdf",
   "metadata": {},
   "outputs": [
    {
     "name": "stdout",
     "output_type": "stream",
     "text": [
      "     stationid                 neighborhood    borough  zipcode  \\\n",
      "328       2001                          NaN   Brooklyn  11251.0   \n",
      "323       2005                          NaN   Brooklyn  11251.0   \n",
      "93         372                 Clinton Hill   Brooklyn  11225.0   \n",
      "329        321                        Dumbo   Brooklyn  11201.0   \n",
      "324        119                          NaN   Brooklyn  11251.0   \n",
      "..         ...                          ...        ...      ...   \n",
      "42         426  Manhattan Community Board 1  Manhattan  10282.0   \n",
      "239        497  Manhattan Community Board 5  Manhattan  10010.0   \n",
      "58         519  Manhattan Community Board 5  Manhattan  10037.0   \n",
      "5          293  Manhattan Community Board 2  Manhattan  10003.0   \n",
      "177        459  Manhattan Community Board 4  Manhattan  10011.0   \n",
      "\n",
      "                      station_name   latitude  longitude  count  \n",
      "328            7 Ave & Farragut St  40.698921 -73.973330      5  \n",
      "323         Railroad Ave & Kay Ave  40.705312 -73.971001      5  \n",
      "93       Franklin Ave & Myrtle Ave  40.694528 -73.958089      8  \n",
      "329  Cadman Plaza E & Red Cross Pl  40.699918 -73.989718     11  \n",
      "324       Park Ave & St Edwards St  40.696089 -73.978034     11  \n",
      "..                             ...        ...        ...    ...  \n",
      "42           West St & Chambers St  40.717548 -74.013221    465  \n",
      "239             E 17 St & Broadway  40.737050 -73.990093    496  \n",
      "58               Pershing Square N  40.751884 -73.977702    503  \n",
      "5            Lafayette St & E 8 St  40.730287 -73.990765    505  \n",
      "177               W 20 St & 11 Ave  40.746745 -74.007756    536  \n",
      "\n",
      "[330 rows x 8 columns]\n"
     ]
    }
   ],
   "source": [
    "# sort to find the bottom 30 stations\n",
    "stations3 = stations.sort_values(by='count', ascending=True)\n",
    "print(stations3)"
   ]
  },
  {
   "cell_type": "code",
   "execution_count": 31,
   "id": "37fed6ed",
   "metadata": {},
   "outputs": [
    {
     "name": "stdout",
     "output_type": "stream",
     "text": [
      "     stationid                 neighborhood    borough  zipcode  \\\n",
      "328       2001                          NaN   Brooklyn  11251.0   \n",
      "323       2005                          NaN   Brooklyn  11251.0   \n",
      "93         372                 Clinton Hill   Brooklyn  11225.0   \n",
      "329        321                        Dumbo   Brooklyn  11201.0   \n",
      "324        119                          NaN   Brooklyn  11251.0   \n",
      "317        421                          NaN   Brooklyn  11205.0   \n",
      "325        431                          NaN   Brooklyn  11201.0   \n",
      "266        298                          NaN   Brooklyn  11227.0   \n",
      "307        436                          NaN   Brooklyn  11233.0   \n",
      "131        343           Brooklyn Navy Yard   Brooklyn  11251.0   \n",
      "327        443                          NaN   Brooklyn  11249.0   \n",
      "310        289                 Clinton Hill   Brooklyn  11221.0   \n",
      "43         275                          NaN   Brooklyn  11221.0   \n",
      "322        409                 Clinton Hill   Brooklyn  11205.0   \n",
      "313        278           Brooklyn Navy Yard   Brooklyn  11251.0   \n",
      "300        344                 Clinton Hill   Brooklyn  11216.0   \n",
      "238        397                          NaN   Brooklyn  11207.0   \n",
      "33         245                          NaN   Brooklyn  11237.0   \n",
      "284        218                          NaN   Brooklyn  11201.0   \n",
      "285        144           Brooklyn Navy Yard   Brooklyn  11251.0   \n",
      "316        437           Bedford-Stuyvesant   Brooklyn  11233.0   \n",
      "312        262                          NaN   Brooklyn  11205.0   \n",
      "301        373                 Clinton Hill   Brooklyn  11205.0   \n",
      "60         242                          NaN   Brooklyn  11205.0   \n",
      "117        120                 Clinton Hill   Brooklyn  11221.0   \n",
      "274        516  Manhattan Community Board 6  Manhattan      NaN   \n",
      "296        418                        Dumbo   Brooklyn  11251.0   \n",
      "320        313                 Clinton Hill   Brooklyn  11205.0   \n",
      "294        399                 Clinton Hill   Brooklyn  11205.0   \n",
      "278        354                 Clinton Hill   Brooklyn  11205.0   \n",
      "\n",
      "                      station_name   latitude  longitude  count  \n",
      "328            7 Ave & Farragut St  40.698921 -73.973330      5  \n",
      "323         Railroad Ave & Kay Ave  40.705312 -73.971001      5  \n",
      "93       Franklin Ave & Myrtle Ave  40.694528 -73.958089      8  \n",
      "329  Cadman Plaza E & Red Cross Pl  40.699918 -73.989718     11  \n",
      "324       Park Ave & St Edwards St  40.696089 -73.978034     11  \n",
      "317        Clermont Ave & Park Ave  40.695734 -73.971297     14  \n",
      "325     Hanover Pl & Livingston St  40.688646 -73.982634     14  \n",
      "266        3 Ave & Schermerhorn St  40.686832 -73.979677     15  \n",
      "307       Hancock St & Bedford Ave  40.682166 -73.953990     17  \n",
      "131     Clinton Ave & Flushing Ave  40.697940 -73.969868     19  \n",
      "327         Bedford Ave & S 9th St  40.708531 -73.964090     20  \n",
      "310        Monroe St & Classon Ave  40.684568 -73.958811     20  \n",
      "43     Washington Ave & Greene Ave  40.686501 -73.965633     21  \n",
      "322       DeKalb Ave & Skillman St  40.690649 -73.956431     22  \n",
      "313         Concord St & Bridge St  40.697666 -73.984764     22  \n",
      "300        Monroe St & Bedford Ave  40.685144 -73.953809     23  \n",
      "238       Fulton St & Clermont Ave  40.684157 -73.969223     23  \n",
      "33      Myrtle Ave & St Edwards St  40.693270 -73.977039     24  \n",
      "284    Gallatin Pl & Livingston St  40.690284 -73.987071     25  \n",
      "285            Nassau St & Navy St  40.698399 -73.980689     26  \n",
      "316        Macon St & Nostrand Ave  40.680983 -73.950048     27  \n",
      "312                Washington Park  40.691782 -73.973730     29  \n",
      "301   Willoughby Ave & Walworth St  40.693317 -73.953820     30  \n",
      "60      Flushing Ave & Carlton Ave  40.697883 -73.973503     30  \n",
      "117    Lexington Ave & Classon Ave  40.686768 -73.959282     31  \n",
      "274                E 47 St & 1 Ave  40.752069 -73.967844     32  \n",
      "296             Front St & Gold St  40.702240 -73.982578     33  \n",
      "320      Washington Ave & Park Ave  40.696102 -73.967510     33  \n",
      "294    Lafayette Ave & St James Pl  40.688515 -73.964763     33  \n",
      "278        Emerson Pl & Myrtle Ave  40.693631 -73.962236     34  \n"
     ]
    }
   ],
   "source": [
    "bottom_30 = stations3.head(30)\n",
    "print(bottom_30)"
   ]
  },
  {
   "cell_type": "code",
   "execution_count": null,
   "id": "477ad3ca",
   "metadata": {},
   "outputs": [],
   "source": [
    "# export \n",
    "top_30.to_csv(os.path.join(path, '02 Data', 'Prepared Data', 'bottom_30_stations.csv'))"
   ]
  },
  {
   "cell_type": "markdown",
   "id": "8ba8de9b",
   "metadata": {},
   "source": [
    "# Most Popular Destinations"
   ]
  },
  {
   "cell_type": "code",
   "execution_count": null,
   "id": "9a475b5e",
   "metadata": {},
   "outputs": [],
   "source": [
    "# import Nominatim API\n",
    "from geopy.geocoders import Nominatim\n",
    "from geopy.extra.rate_limiter import RateLimiter"
   ]
  },
  {
   "cell_type": "code",
   "execution_count": null,
   "id": "24a80c06",
   "metadata": {},
   "outputs": [],
   "source": [
    "geolocator = Nominatim(user_agent=\"bikeshare\")\n",
    "reverse = RateLimiter(geolocator.reverse, min_delay_seconds=1, max_retries=0)"
   ]
  },
  {
   "cell_type": "code",
   "execution_count": null,
   "id": "08b074a8",
   "metadata": {},
   "outputs": [],
   "source": [
    "# test\n",
    "reverse(\"40.754666, -73.991382\").raw['address']"
   ]
  },
  {
   "cell_type": "code",
   "execution_count": null,
   "id": "94139b12",
   "metadata": {},
   "outputs": [],
   "source": [
    "data['end_station_count'] = data.groupby('end_station_name')['end_station_name'].transform('count')"
   ]
  },
  {
   "cell_type": "code",
   "execution_count": null,
   "id": "7de5932f",
   "metadata": {},
   "outputs": [],
   "source": [
    "# create end_stations dataframe \n",
    "end_stations = data[['end_station_id','end_station_name',\\\n",
    "'end_station_latitude','end_station_longitude', 'end_station_count']]\\\n",
    ".drop_duplicates(subset = ['end_station_id'])"
   ]
  },
  {
   "cell_type": "code",
   "execution_count": null,
   "id": "e3f048e6",
   "metadata": {},
   "outputs": [],
   "source": [
    "# rename columns and reset index\n",
    "end_stations.columns=['stationid','station name','latitude','longitude', 'count']\n",
    "end_stations.set_index('stationid', inplace=True)\n",
    "end_stations"
   ]
  },
  {
   "cell_type": "code",
   "execution_count": null,
   "id": "335613f3",
   "metadata": {},
   "outputs": [],
   "source": [
    "# use API to get detailed location information for each statation\n",
    "end_stations_2=[]\n",
    "for index, row in end_stations.iterrows():\n",
    "    end_stations_2.append(reverse(\"{}, {}\".format(row['latitude'],\\\n",
    "    row['longitude'])).raw['address'])\n",
    "pd.DataFrame(end_stations_2[:10])"
   ]
  },
  {
   "cell_type": "code",
   "execution_count": null,
   "id": "b93aa99f",
   "metadata": {},
   "outputs": [],
   "source": [
    "# create new stations dataframe\n",
    "dfstations = pd.DataFrame(index=end_stations.index, data=end_stations_2,\\\n",
    "      columns=['neighbourhood','suburb','postcode'])\n",
    "dfstations.rename(columns={\"neighbourhood\":\"neighborhood\",\\\n",
    "      \"suburb\": \"borough\", \"postcode\": \"zipcode\"}\\\n",
    "      ,inplace=True )"
   ]
  },
  {
   "cell_type": "code",
   "execution_count": null,
   "id": "0eef0c51",
   "metadata": {},
   "outputs": [],
   "source": [
    "# shorten zip codes and change data types\n",
    "dfstations['neighborhood'] = dfstations['neighborhood'].astype('category')\n",
    "dfstations['borough'] = dfstations['borough'].astype('category')\n",
    "dfstations['zipcode'] = dfstations['zipcode'].str[:5].astype('category')\n",
    "cols = ['neighborhood', 'borough']"
   ]
  },
  {
   "cell_type": "code",
   "execution_count": null,
   "id": "9b48fa21",
   "metadata": {},
   "outputs": [],
   "source": [
    "# add station name, count, latitude, and longitude to dataframe\n",
    "dfstations[['station_name','latitude','longitude', 'count']] =\\\n",
    " end_stations[['station name','latitude','longitude', 'count']]"
   ]
  },
  {
   "cell_type": "code",
   "execution_count": null,
   "id": "fa59888f",
   "metadata": {},
   "outputs": [],
   "source": [
    "dfstations.head(10)"
   ]
  },
  {
   "cell_type": "code",
   "execution_count": null,
   "id": "aaa745be",
   "metadata": {},
   "outputs": [],
   "source": [
    "# export data frame\n",
    "dfstations.to_csv(os.path.join(path, '02 Data', 'Prepared Data', 'citibike_end_stations.csv'))"
   ]
  },
  {
   "cell_type": "code",
   "execution_count": null,
   "id": "682a086e",
   "metadata": {},
   "outputs": [],
   "source": [
    "# sort dfstations to find top 30 most popular destinations\n",
    "dfstations2 = dfstations.sort_values(by='count', ascending=False)\n",
    "print(dfstations2)"
   ]
  },
  {
   "cell_type": "code",
   "execution_count": null,
   "id": "39033462",
   "metadata": {},
   "outputs": [],
   "source": [
    "popular_destinations = dfstations2.head(30)\n",
    "print(popular_destinations)"
   ]
  },
  {
   "cell_type": "code",
   "execution_count": null,
   "id": "7636d0c0",
   "metadata": {},
   "outputs": [],
   "source": [
    "# export \n",
    "popular_destinations.to_csv(os.path.join(path, '02 Data', 'Prepared Data', 'pop_destinations.csv'))"
   ]
  },
  {
   "cell_type": "markdown",
   "id": "7854536f",
   "metadata": {},
   "source": [
    "# Most Popular Routes"
   ]
  },
  {
   "cell_type": "code",
   "execution_count": 32,
   "id": "cb184925",
   "metadata": {},
   "outputs": [],
   "source": [
    "# sort rentals by start and end stations\n",
    "routes = data.groupby(['start_station_name', 'end_station_name'])['trip_id'].count().reset_index()"
   ]
  },
  {
   "cell_type": "code",
   "execution_count": 33,
   "id": "6d767c06",
   "metadata": {},
   "outputs": [
    {
     "data": {
      "text/html": [
       "<div>\n",
       "<style scoped>\n",
       "    .dataframe tbody tr th:only-of-type {\n",
       "        vertical-align: middle;\n",
       "    }\n",
       "\n",
       "    .dataframe tbody tr th {\n",
       "        vertical-align: top;\n",
       "    }\n",
       "\n",
       "    .dataframe thead th {\n",
       "        text-align: right;\n",
       "    }\n",
       "</style>\n",
       "<table border=\"1\" class=\"dataframe\">\n",
       "  <thead>\n",
       "    <tr style=\"text-align: right;\">\n",
       "      <th></th>\n",
       "      <th>start_station_name</th>\n",
       "      <th>end_station_name</th>\n",
       "      <th>trip_id</th>\n",
       "    </tr>\n",
       "  </thead>\n",
       "  <tbody>\n",
       "    <tr>\n",
       "      <th>0</th>\n",
       "      <td>1 Ave &amp; E 15 St</td>\n",
       "      <td>1 Ave &amp; E 15 St</td>\n",
       "      <td>3</td>\n",
       "    </tr>\n",
       "    <tr>\n",
       "      <th>1</th>\n",
       "      <td>1 Ave &amp; E 15 St</td>\n",
       "      <td>1 Ave &amp; E 18 St</td>\n",
       "      <td>2</td>\n",
       "    </tr>\n",
       "    <tr>\n",
       "      <th>2</th>\n",
       "      <td>1 Ave &amp; E 15 St</td>\n",
       "      <td>1 Ave &amp; E 30 St</td>\n",
       "      <td>5</td>\n",
       "    </tr>\n",
       "    <tr>\n",
       "      <th>3</th>\n",
       "      <td>1 Ave &amp; E 15 St</td>\n",
       "      <td>1 Ave &amp; E 44 St</td>\n",
       "      <td>1</td>\n",
       "    </tr>\n",
       "    <tr>\n",
       "      <th>4</th>\n",
       "      <td>1 Ave &amp; E 15 St</td>\n",
       "      <td>2 Ave &amp; E 31 St</td>\n",
       "      <td>4</td>\n",
       "    </tr>\n",
       "    <tr>\n",
       "      <th>...</th>\n",
       "      <td>...</td>\n",
       "      <td>...</td>\n",
       "      <td>...</td>\n",
       "    </tr>\n",
       "    <tr>\n",
       "      <th>27653</th>\n",
       "      <td>York St &amp; Jay St</td>\n",
       "      <td>Washington Park</td>\n",
       "      <td>1</td>\n",
       "    </tr>\n",
       "    <tr>\n",
       "      <th>27654</th>\n",
       "      <td>York St &amp; Jay St</td>\n",
       "      <td>Willoughby Ave &amp; Hall St</td>\n",
       "      <td>1</td>\n",
       "    </tr>\n",
       "    <tr>\n",
       "      <th>27655</th>\n",
       "      <td>York St &amp; Jay St</td>\n",
       "      <td>Willoughby Ave &amp; Walworth St</td>\n",
       "      <td>1</td>\n",
       "    </tr>\n",
       "    <tr>\n",
       "      <th>27656</th>\n",
       "      <td>York St &amp; Jay St</td>\n",
       "      <td>Wythe Ave &amp; Metropolitan Ave</td>\n",
       "      <td>1</td>\n",
       "    </tr>\n",
       "    <tr>\n",
       "      <th>27657</th>\n",
       "      <td>York St &amp; Jay St</td>\n",
       "      <td>York St &amp; Jay St</td>\n",
       "      <td>1</td>\n",
       "    </tr>\n",
       "  </tbody>\n",
       "</table>\n",
       "<p>27658 rows × 3 columns</p>\n",
       "</div>"
      ],
      "text/plain": [
       "      start_station_name              end_station_name  trip_id\n",
       "0        1 Ave & E 15 St               1 Ave & E 15 St        3\n",
       "1        1 Ave & E 15 St               1 Ave & E 18 St        2\n",
       "2        1 Ave & E 15 St               1 Ave & E 30 St        5\n",
       "3        1 Ave & E 15 St               1 Ave & E 44 St        1\n",
       "4        1 Ave & E 15 St               2 Ave & E 31 St        4\n",
       "...                  ...                           ...      ...\n",
       "27653   York St & Jay St               Washington Park        1\n",
       "27654   York St & Jay St      Willoughby Ave & Hall St        1\n",
       "27655   York St & Jay St  Willoughby Ave & Walworth St        1\n",
       "27656   York St & Jay St  Wythe Ave & Metropolitan Ave        1\n",
       "27657   York St & Jay St              York St & Jay St        1\n",
       "\n",
       "[27658 rows x 3 columns]"
      ]
     },
     "execution_count": 33,
     "metadata": {},
     "output_type": "execute_result"
    }
   ],
   "source": [
    "routes"
   ]
  },
  {
   "cell_type": "code",
   "execution_count": 34,
   "id": "5047ea41",
   "metadata": {},
   "outputs": [],
   "source": [
    "routes = routes.sort_values(by='trip_id', ascending=False)"
   ]
  },
  {
   "cell_type": "code",
   "execution_count": 35,
   "id": "fd60edd2",
   "metadata": {},
   "outputs": [
    {
     "data": {
      "text/html": [
       "<div>\n",
       "<style scoped>\n",
       "    .dataframe tbody tr th:only-of-type {\n",
       "        vertical-align: middle;\n",
       "    }\n",
       "\n",
       "    .dataframe tbody tr th {\n",
       "        vertical-align: top;\n",
       "    }\n",
       "\n",
       "    .dataframe thead th {\n",
       "        text-align: right;\n",
       "    }\n",
       "</style>\n",
       "<table border=\"1\" class=\"dataframe\">\n",
       "  <thead>\n",
       "    <tr style=\"text-align: right;\">\n",
       "      <th></th>\n",
       "      <th>start_station_name</th>\n",
       "      <th>end_station_name</th>\n",
       "      <th>trip_id</th>\n",
       "    </tr>\n",
       "  </thead>\n",
       "  <tbody>\n",
       "    <tr>\n",
       "      <th>5886</th>\n",
       "      <td>Central Park S &amp; 6 Ave</td>\n",
       "      <td>Central Park S &amp; 6 Ave</td>\n",
       "      <td>77</td>\n",
       "    </tr>\n",
       "    <tr>\n",
       "      <th>14060</th>\n",
       "      <td>Grand Army Plaza &amp; Central Park S</td>\n",
       "      <td>Grand Army Plaza &amp; Central Park S</td>\n",
       "      <td>31</td>\n",
       "    </tr>\n",
       "    <tr>\n",
       "      <th>5399</th>\n",
       "      <td>Broadway &amp; W 60 St</td>\n",
       "      <td>Broadway &amp; W 60 St</td>\n",
       "      <td>30</td>\n",
       "    </tr>\n",
       "    <tr>\n",
       "      <th>14024</th>\n",
       "      <td>Grand Army Plaza &amp; Central Park S</td>\n",
       "      <td>Broadway &amp; W 60 St</td>\n",
       "      <td>25</td>\n",
       "    </tr>\n",
       "    <tr>\n",
       "      <th>26819</th>\n",
       "      <td>Washington Square E</td>\n",
       "      <td>University Pl &amp; E 14 St</td>\n",
       "      <td>23</td>\n",
       "    </tr>\n",
       "    <tr>\n",
       "      <th>...</th>\n",
       "      <td>...</td>\n",
       "      <td>...</td>\n",
       "      <td>...</td>\n",
       "    </tr>\n",
       "    <tr>\n",
       "      <th>15954</th>\n",
       "      <td>Lafayette St &amp; Jersey St</td>\n",
       "      <td>W 53 St &amp; 10 Ave</td>\n",
       "      <td>1</td>\n",
       "    </tr>\n",
       "    <tr>\n",
       "      <th>15955</th>\n",
       "      <td>Lafayette St &amp; Jersey St</td>\n",
       "      <td>W 56 St &amp; 6 Ave</td>\n",
       "      <td>1</td>\n",
       "    </tr>\n",
       "    <tr>\n",
       "      <th>15956</th>\n",
       "      <td>Lafayette St &amp; Jersey St</td>\n",
       "      <td>W Broadway &amp; Spring St</td>\n",
       "      <td>1</td>\n",
       "    </tr>\n",
       "    <tr>\n",
       "      <th>15957</th>\n",
       "      <td>Lafayette St &amp; Jersey St</td>\n",
       "      <td>Washington Pl &amp; Broadway</td>\n",
       "      <td>1</td>\n",
       "    </tr>\n",
       "    <tr>\n",
       "      <th>27657</th>\n",
       "      <td>York St &amp; Jay St</td>\n",
       "      <td>York St &amp; Jay St</td>\n",
       "      <td>1</td>\n",
       "    </tr>\n",
       "  </tbody>\n",
       "</table>\n",
       "<p>27658 rows × 3 columns</p>\n",
       "</div>"
      ],
      "text/plain": [
       "                      start_station_name                   end_station_name  \\\n",
       "5886              Central Park S & 6 Ave             Central Park S & 6 Ave   \n",
       "14060  Grand Army Plaza & Central Park S  Grand Army Plaza & Central Park S   \n",
       "5399                  Broadway & W 60 St                 Broadway & W 60 St   \n",
       "14024  Grand Army Plaza & Central Park S                 Broadway & W 60 St   \n",
       "26819                Washington Square E            University Pl & E 14 St   \n",
       "...                                  ...                                ...   \n",
       "15954           Lafayette St & Jersey St                   W 53 St & 10 Ave   \n",
       "15955           Lafayette St & Jersey St                    W 56 St & 6 Ave   \n",
       "15956           Lafayette St & Jersey St             W Broadway & Spring St   \n",
       "15957           Lafayette St & Jersey St           Washington Pl & Broadway   \n",
       "27657                   York St & Jay St                   York St & Jay St   \n",
       "\n",
       "       trip_id  \n",
       "5886        77  \n",
       "14060       31  \n",
       "5399        30  \n",
       "14024       25  \n",
       "26819       23  \n",
       "...        ...  \n",
       "15954        1  \n",
       "15955        1  \n",
       "15956        1  \n",
       "15957        1  \n",
       "27657        1  \n",
       "\n",
       "[27658 rows x 3 columns]"
      ]
     },
     "execution_count": 35,
     "metadata": {},
     "output_type": "execute_result"
    }
   ],
   "source": [
    "routes"
   ]
  },
  {
   "cell_type": "code",
   "execution_count": 36,
   "id": "9918a9b1",
   "metadata": {},
   "outputs": [
    {
     "name": "stdout",
     "output_type": "stream",
     "text": [
      "                      start_station_name                   end_station_name  \\\n",
      "5886              Central Park S & 6 Ave             Central Park S & 6 Ave   \n",
      "14060  Grand Army Plaza & Central Park S  Grand Army Plaza & Central Park S   \n",
      "5399                  Broadway & W 60 St                 Broadway & W 60 St   \n",
      "14024  Grand Army Plaza & Central Park S                 Broadway & W 60 St   \n",
      "26819                Washington Square E            University Pl & E 14 St   \n",
      "...                                  ...                                ...   \n",
      "5180                  Broadway & W 55 St                    E 39 St & 3 Ave   \n",
      "5110                  Broadway & W 53 St                   W 26 St & 10 Ave   \n",
      "5183                  Broadway & W 55 St                    E 45 St & 3 Ave   \n",
      "4472                  Broadway & W 36 St                E 16 St & Irving Pl   \n",
      "5291                  Broadway & W 58 St                    E 45 St & 3 Ave   \n",
      "\n",
      "       trip_id  \n",
      "5886        77  \n",
      "14060       31  \n",
      "5399        30  \n",
      "14024       25  \n",
      "26819       23  \n",
      "...        ...  \n",
      "5180         2  \n",
      "5110         2  \n",
      "5183         2  \n",
      "4472         2  \n",
      "5291         2  \n",
      "\n",
      "[11072 rows x 3 columns]\n"
     ]
    }
   ],
   "source": [
    "# Filter rows where 'trip_id' is greater than 1\n",
    "filtered_routes = routes[routes['trip_id'] > 1]\n",
    "\n",
    "# Display the filtered DataFrame\n",
    "print(filtered_routes)"
   ]
  },
  {
   "cell_type": "code",
   "execution_count": 37,
   "id": "664f90d8",
   "metadata": {},
   "outputs": [
    {
     "name": "stdout",
     "output_type": "stream",
     "text": [
      "                      start_station_name                   end_station_name  \\\n",
      "5886              Central Park S & 6 Ave             Central Park S & 6 Ave   \n",
      "14060  Grand Army Plaza & Central Park S  Grand Army Plaza & Central Park S   \n",
      "5399                  Broadway & W 60 St                 Broadway & W 60 St   \n",
      "14024  Grand Army Plaza & Central Park S                 Broadway & W 60 St   \n",
      "26819                Washington Square E            University Pl & E 14 St   \n",
      "...                                  ...                                ...   \n",
      "27145              West St & Chambers St              Barrow St & Hudson St   \n",
      "14621          Greenwich St & N Moore St           Greenwich St & Warren St   \n",
      "18420                  Pershing Square N               E 30 St & Park Ave S   \n",
      "15174              Howard St & Centre St           Vesey Pl & River Terrace   \n",
      "26974      Washington St & Gansevoort St              West St & Chambers St   \n",
      "\n",
      "       trip_id  \n",
      "5886        77  \n",
      "14060       31  \n",
      "5399        30  \n",
      "14024       25  \n",
      "26819       23  \n",
      "...        ...  \n",
      "27145       10  \n",
      "14621       10  \n",
      "18420       10  \n",
      "15174       10  \n",
      "26974       10  \n",
      "\n",
      "[100 rows x 3 columns]\n"
     ]
    }
   ],
   "source": [
    "# top 100 routes\n",
    "popular_routes = filtered_routes.head(100)\n",
    "print(popular_routes)"
   ]
  },
  {
   "cell_type": "code",
   "execution_count": null,
   "id": "6d70ea90",
   "metadata": {},
   "outputs": [],
   "source": [
    "# export \n",
    "popular_destinations.to_csv(os.path.join(path, '02 Data', 'Prepared Data', 'pop_routes.csv'))"
   ]
  },
  {
   "cell_type": "markdown",
   "id": "69f39b8e",
   "metadata": {},
   "source": [
    "# Average trip duration in minutes"
   ]
  },
  {
   "cell_type": "code",
   "execution_count": 38,
   "id": "2a5380ea",
   "metadata": {},
   "outputs": [
    {
     "name": "stdout",
     "output_type": "stream",
     "text": [
      "Average Trip Minutes: 13.480821177741761\n"
     ]
    }
   ],
   "source": [
    "# Calculate the average of the 'trip_minutes' column\n",
    "average_trip_minutes = data['trip_minutes'].mean()\n",
    "# Display the result\n",
    "print(f\"Average Trip Minutes: {average_trip_minutes}\")"
   ]
  },
  {
   "cell_type": "markdown",
   "id": "9e986172",
   "metadata": {},
   "source": [
    "# Subscriber vs. Casual Riders"
   ]
  },
  {
   "cell_type": "code",
   "execution_count": 39,
   "id": "c130b191",
   "metadata": {},
   "outputs": [],
   "source": [
    "# sort rentals by subscriber type\n",
    "customer_counts = data.groupby('subscriber')['trip_id'].count().sort_values()"
   ]
  },
  {
   "cell_type": "code",
   "execution_count": 40,
   "id": "539cc68b",
   "metadata": {},
   "outputs": [
    {
     "data": {
      "text/plain": [
       "subscriber\n",
       "Non-Subscriber     6979\n",
       "Subscriber        42998\n",
       "Name: trip_id, dtype: int64"
      ]
     },
     "execution_count": 40,
     "metadata": {},
     "output_type": "execute_result"
    }
   ],
   "source": [
    "customer_counts"
   ]
  },
  {
   "cell_type": "markdown",
   "id": "69c2699b",
   "metadata": {},
   "source": [
    "# Rider Ages"
   ]
  },
  {
   "cell_type": "code",
   "execution_count": 41,
   "id": "32cdf7a0",
   "metadata": {},
   "outputs": [],
   "source": [
    "# import file\n",
    "data = pd.read_csv(os.path.join(path, '02 Data', 'Prepared Data', 'citibike_fresh.csv'), index_col = False)"
   ]
  },
  {
   "cell_type": "code",
   "execution_count": 42,
   "id": "c54ab594",
   "metadata": {},
   "outputs": [
    {
     "data": {
      "text/html": [
       "<div>\n",
       "<style scoped>\n",
       "    .dataframe tbody tr th:only-of-type {\n",
       "        vertical-align: middle;\n",
       "    }\n",
       "\n",
       "    .dataframe tbody tr th {\n",
       "        vertical-align: top;\n",
       "    }\n",
       "\n",
       "    .dataframe thead th {\n",
       "        text-align: right;\n",
       "    }\n",
       "</style>\n",
       "<table border=\"1\" class=\"dataframe\">\n",
       "  <thead>\n",
       "    <tr style=\"text-align: right;\">\n",
       "      <th></th>\n",
       "      <th>Unnamed: 0</th>\n",
       "      <th>trip_id</th>\n",
       "      <th>bike_id</th>\n",
       "      <th>weekday</th>\n",
       "      <th>start_hour</th>\n",
       "      <th>start_time</th>\n",
       "      <th>start_station_id</th>\n",
       "      <th>start_station_name</th>\n",
       "      <th>start_station_latitude</th>\n",
       "      <th>start_station_longitude</th>\n",
       "      <th>...</th>\n",
       "      <th>end_station_latitude</th>\n",
       "      <th>end_station_longitude</th>\n",
       "      <th>trip_duration</th>\n",
       "      <th>subscriber</th>\n",
       "      <th>birth_year</th>\n",
       "      <th>gender</th>\n",
       "      <th>age</th>\n",
       "      <th>Trip Range</th>\n",
       "      <th>trip_minutes</th>\n",
       "      <th>trip_type</th>\n",
       "    </tr>\n",
       "  </thead>\n",
       "  <tbody>\n",
       "    <tr>\n",
       "      <th>0</th>\n",
       "      <td>0</td>\n",
       "      <td>LnQzQk</td>\n",
       "      <td>16013</td>\n",
       "      <td>Mon</td>\n",
       "      <td>18</td>\n",
       "      <td>2013-09-09 18:18:55</td>\n",
       "      <td>523</td>\n",
       "      <td>W 38 St &amp; 8 Ave</td>\n",
       "      <td>40.754666</td>\n",
       "      <td>-73.991382</td>\n",
       "      <td>...</td>\n",
       "      <td>40.742388</td>\n",
       "      <td>-73.997262</td>\n",
       "      <td>993</td>\n",
       "      <td>Subscriber</td>\n",
       "      <td>1968-01-01</td>\n",
       "      <td>2</td>\n",
       "      <td>45.692282</td>\n",
       "      <td>long trip</td>\n",
       "      <td>16</td>\n",
       "      <td>early_evening ride</td>\n",
       "    </tr>\n",
       "    <tr>\n",
       "      <th>1</th>\n",
       "      <td>1</td>\n",
       "      <td>IL9boN</td>\n",
       "      <td>15230</td>\n",
       "      <td>Thu</td>\n",
       "      <td>18</td>\n",
       "      <td>2013-09-12 18:38:53</td>\n",
       "      <td>257</td>\n",
       "      <td>Lispenard St &amp; Broadway</td>\n",
       "      <td>40.719392</td>\n",
       "      <td>-74.002472</td>\n",
       "      <td>...</td>\n",
       "      <td>40.728419</td>\n",
       "      <td>-73.987140</td>\n",
       "      <td>581</td>\n",
       "      <td>Subscriber</td>\n",
       "      <td>1983-01-01</td>\n",
       "      <td>1</td>\n",
       "      <td>30.699541</td>\n",
       "      <td>average trip</td>\n",
       "      <td>9</td>\n",
       "      <td>early_evening ride</td>\n",
       "    </tr>\n",
       "    <tr>\n",
       "      <th>2</th>\n",
       "      <td>2</td>\n",
       "      <td>46clGB</td>\n",
       "      <td>17942</td>\n",
       "      <td>Wed</td>\n",
       "      <td>19</td>\n",
       "      <td>2013-09-18 19:44:04</td>\n",
       "      <td>479</td>\n",
       "      <td>9 Ave &amp; W 45 St</td>\n",
       "      <td>40.760193</td>\n",
       "      <td>-73.991255</td>\n",
       "      <td>...</td>\n",
       "      <td>40.768254</td>\n",
       "      <td>-73.988639</td>\n",
       "      <td>361</td>\n",
       "      <td>Subscriber</td>\n",
       "      <td>1989-01-01</td>\n",
       "      <td>1</td>\n",
       "      <td>24.714600</td>\n",
       "      <td>average trip</td>\n",
       "      <td>6</td>\n",
       "      <td>late-evening ride</td>\n",
       "    </tr>\n",
       "    <tr>\n",
       "      <th>3</th>\n",
       "      <td>3</td>\n",
       "      <td>v7vdFt</td>\n",
       "      <td>19683</td>\n",
       "      <td>Sat</td>\n",
       "      <td>11</td>\n",
       "      <td>2013-09-28 11:54:37</td>\n",
       "      <td>527</td>\n",
       "      <td>E 33 St &amp; 1 Ave</td>\n",
       "      <td>40.743156</td>\n",
       "      <td>-73.974347</td>\n",
       "      <td>...</td>\n",
       "      <td>40.756014</td>\n",
       "      <td>-73.967416</td>\n",
       "      <td>561</td>\n",
       "      <td>Subscriber</td>\n",
       "      <td>1988-01-01</td>\n",
       "      <td>2</td>\n",
       "      <td>25.743160</td>\n",
       "      <td>average trip</td>\n",
       "      <td>9</td>\n",
       "      <td>late_morning ride</td>\n",
       "    </tr>\n",
       "    <tr>\n",
       "      <th>4</th>\n",
       "      <td>4</td>\n",
       "      <td>VGBsb5</td>\n",
       "      <td>18024</td>\n",
       "      <td>Sat</td>\n",
       "      <td>18</td>\n",
       "      <td>2013-09-07 18:08:22</td>\n",
       "      <td>521</td>\n",
       "      <td>8 Ave &amp; W 31 St</td>\n",
       "      <td>40.750450</td>\n",
       "      <td>-73.994811</td>\n",
       "      <td>...</td>\n",
       "      <td>40.743943</td>\n",
       "      <td>-73.979661</td>\n",
       "      <td>2296</td>\n",
       "      <td>Non-Subscriber</td>\n",
       "      <td>1978-01-01</td>\n",
       "      <td>0</td>\n",
       "      <td>35.685211</td>\n",
       "      <td>long trip</td>\n",
       "      <td>38</td>\n",
       "      <td>early_evening ride</td>\n",
       "    </tr>\n",
       "  </tbody>\n",
       "</table>\n",
       "<p>5 rows × 23 columns</p>\n",
       "</div>"
      ],
      "text/plain": [
       "   Unnamed: 0 trip_id  bike_id weekday  start_hour           start_time  \\\n",
       "0           0  LnQzQk    16013     Mon          18  2013-09-09 18:18:55   \n",
       "1           1  IL9boN    15230     Thu          18  2013-09-12 18:38:53   \n",
       "2           2  46clGB    17942     Wed          19  2013-09-18 19:44:04   \n",
       "3           3  v7vdFt    19683     Sat          11  2013-09-28 11:54:37   \n",
       "4           4  VGBsb5    18024     Sat          18  2013-09-07 18:08:22   \n",
       "\n",
       "   start_station_id       start_station_name  start_station_latitude  \\\n",
       "0               523          W 38 St & 8 Ave               40.754666   \n",
       "1               257  Lispenard St & Broadway               40.719392   \n",
       "2               479          9 Ave & W 45 St               40.760193   \n",
       "3               527          E 33 St & 1 Ave               40.743156   \n",
       "4               521          8 Ave & W 31 St               40.750450   \n",
       "\n",
       "   start_station_longitude  ... end_station_latitude  end_station_longitude  \\\n",
       "0               -73.991382  ...            40.742388             -73.997262   \n",
       "1               -74.002472  ...            40.728419             -73.987140   \n",
       "2               -73.991255  ...            40.768254             -73.988639   \n",
       "3               -73.974347  ...            40.756014             -73.967416   \n",
       "4               -73.994811  ...            40.743943             -73.979661   \n",
       "\n",
       "  trip_duration      subscriber  birth_year  gender        age    Trip Range  \\\n",
       "0           993      Subscriber  1968-01-01       2  45.692282     long trip   \n",
       "1           581      Subscriber  1983-01-01       1  30.699541  average trip   \n",
       "2           361      Subscriber  1989-01-01       1  24.714600  average trip   \n",
       "3           561      Subscriber  1988-01-01       2  25.743160  average trip   \n",
       "4          2296  Non-Subscriber  1978-01-01       0  35.685211     long trip   \n",
       "\n",
       "   trip_minutes           trip_type  \n",
       "0            16  early_evening ride  \n",
       "1             9  early_evening ride  \n",
       "2             6   late-evening ride  \n",
       "3             9   late_morning ride  \n",
       "4            38  early_evening ride  \n",
       "\n",
       "[5 rows x 23 columns]"
      ]
     },
     "execution_count": 42,
     "metadata": {},
     "output_type": "execute_result"
    }
   ],
   "source": [
    "data.head()"
   ]
  },
  {
   "cell_type": "code",
   "execution_count": 43,
   "id": "e4df8e14",
   "metadata": {},
   "outputs": [],
   "source": [
    "# Round the 'age' column to the nearest whole number\n",
    "data['age'] = data['age'].round()"
   ]
  },
  {
   "cell_type": "code",
   "execution_count": 44,
   "id": "c3c4b3b8",
   "metadata": {},
   "outputs": [],
   "source": [
    "# sort rentals by age\n",
    "age_counts = data.groupby('age')['trip_id'].count().sort_values()"
   ]
  },
  {
   "cell_type": "code",
   "execution_count": 45,
   "id": "a80645ec",
   "metadata": {},
   "outputs": [
    {
     "data": {
      "text/plain": [
       "age\n",
       "97.0       1\n",
       "90.0       1\n",
       "88.0       1\n",
       "85.0       1\n",
       "93.0       1\n",
       "        ... \n",
       "30.0    1798\n",
       "32.0    1810\n",
       "33.0    1830\n",
       "29.0    1837\n",
       "36.0    8363\n",
       "Name: trip_id, Length: 72, dtype: int64"
      ]
     },
     "execution_count": 45,
     "metadata": {},
     "output_type": "execute_result"
    }
   ],
   "source": [
    "age_counts"
   ]
  },
  {
   "cell_type": "code",
   "execution_count": 46,
   "id": "89473039",
   "metadata": {},
   "outputs": [],
   "source": [
    "# define times of age groupings\n",
    "def age_categories(row):\n",
    "    if row ['age'] <= 18:\n",
    "        return 'child'\n",
    "    if (row ['age'] > 18) and (row['age'] <= 25):\n",
    "        return 'young adult'\n",
    "    if (row ['age'] > 25) and (row['age'] <= 45):\n",
    "        return 'adult'\n",
    "    if (row ['age'] > 45) and (row ['age'] <= 65):\n",
    "        return 'middle-aged'\n",
    "    else: return 'elder'"
   ]
  },
  {
   "cell_type": "code",
   "execution_count": 47,
   "id": "460d28b2",
   "metadata": {},
   "outputs": [],
   "source": [
    "data['age_group'] = data.apply(age_categories, axis=1)"
   ]
  },
  {
   "cell_type": "code",
   "execution_count": 48,
   "id": "8c8e8580",
   "metadata": {},
   "outputs": [
    {
     "data": {
      "text/html": [
       "<div>\n",
       "<style scoped>\n",
       "    .dataframe tbody tr th:only-of-type {\n",
       "        vertical-align: middle;\n",
       "    }\n",
       "\n",
       "    .dataframe tbody tr th {\n",
       "        vertical-align: top;\n",
       "    }\n",
       "\n",
       "    .dataframe thead th {\n",
       "        text-align: right;\n",
       "    }\n",
       "</style>\n",
       "<table border=\"1\" class=\"dataframe\">\n",
       "  <thead>\n",
       "    <tr style=\"text-align: right;\">\n",
       "      <th></th>\n",
       "      <th>Unnamed: 0</th>\n",
       "      <th>trip_id</th>\n",
       "      <th>bike_id</th>\n",
       "      <th>weekday</th>\n",
       "      <th>start_hour</th>\n",
       "      <th>start_time</th>\n",
       "      <th>start_station_id</th>\n",
       "      <th>start_station_name</th>\n",
       "      <th>start_station_latitude</th>\n",
       "      <th>start_station_longitude</th>\n",
       "      <th>...</th>\n",
       "      <th>end_station_longitude</th>\n",
       "      <th>trip_duration</th>\n",
       "      <th>subscriber</th>\n",
       "      <th>birth_year</th>\n",
       "      <th>gender</th>\n",
       "      <th>age</th>\n",
       "      <th>Trip Range</th>\n",
       "      <th>trip_minutes</th>\n",
       "      <th>trip_type</th>\n",
       "      <th>age_group</th>\n",
       "    </tr>\n",
       "  </thead>\n",
       "  <tbody>\n",
       "    <tr>\n",
       "      <th>0</th>\n",
       "      <td>0</td>\n",
       "      <td>LnQzQk</td>\n",
       "      <td>16013</td>\n",
       "      <td>Mon</td>\n",
       "      <td>18</td>\n",
       "      <td>2013-09-09 18:18:55</td>\n",
       "      <td>523</td>\n",
       "      <td>W 38 St &amp; 8 Ave</td>\n",
       "      <td>40.754666</td>\n",
       "      <td>-73.991382</td>\n",
       "      <td>...</td>\n",
       "      <td>-73.997262</td>\n",
       "      <td>993</td>\n",
       "      <td>Subscriber</td>\n",
       "      <td>1968-01-01</td>\n",
       "      <td>2</td>\n",
       "      <td>46.0</td>\n",
       "      <td>long trip</td>\n",
       "      <td>16</td>\n",
       "      <td>early_evening ride</td>\n",
       "      <td>middle-aged</td>\n",
       "    </tr>\n",
       "    <tr>\n",
       "      <th>1</th>\n",
       "      <td>1</td>\n",
       "      <td>IL9boN</td>\n",
       "      <td>15230</td>\n",
       "      <td>Thu</td>\n",
       "      <td>18</td>\n",
       "      <td>2013-09-12 18:38:53</td>\n",
       "      <td>257</td>\n",
       "      <td>Lispenard St &amp; Broadway</td>\n",
       "      <td>40.719392</td>\n",
       "      <td>-74.002472</td>\n",
       "      <td>...</td>\n",
       "      <td>-73.987140</td>\n",
       "      <td>581</td>\n",
       "      <td>Subscriber</td>\n",
       "      <td>1983-01-01</td>\n",
       "      <td>1</td>\n",
       "      <td>31.0</td>\n",
       "      <td>average trip</td>\n",
       "      <td>9</td>\n",
       "      <td>early_evening ride</td>\n",
       "      <td>adult</td>\n",
       "    </tr>\n",
       "    <tr>\n",
       "      <th>2</th>\n",
       "      <td>2</td>\n",
       "      <td>46clGB</td>\n",
       "      <td>17942</td>\n",
       "      <td>Wed</td>\n",
       "      <td>19</td>\n",
       "      <td>2013-09-18 19:44:04</td>\n",
       "      <td>479</td>\n",
       "      <td>9 Ave &amp; W 45 St</td>\n",
       "      <td>40.760193</td>\n",
       "      <td>-73.991255</td>\n",
       "      <td>...</td>\n",
       "      <td>-73.988639</td>\n",
       "      <td>361</td>\n",
       "      <td>Subscriber</td>\n",
       "      <td>1989-01-01</td>\n",
       "      <td>1</td>\n",
       "      <td>25.0</td>\n",
       "      <td>average trip</td>\n",
       "      <td>6</td>\n",
       "      <td>late-evening ride</td>\n",
       "      <td>young adult</td>\n",
       "    </tr>\n",
       "    <tr>\n",
       "      <th>3</th>\n",
       "      <td>3</td>\n",
       "      <td>v7vdFt</td>\n",
       "      <td>19683</td>\n",
       "      <td>Sat</td>\n",
       "      <td>11</td>\n",
       "      <td>2013-09-28 11:54:37</td>\n",
       "      <td>527</td>\n",
       "      <td>E 33 St &amp; 1 Ave</td>\n",
       "      <td>40.743156</td>\n",
       "      <td>-73.974347</td>\n",
       "      <td>...</td>\n",
       "      <td>-73.967416</td>\n",
       "      <td>561</td>\n",
       "      <td>Subscriber</td>\n",
       "      <td>1988-01-01</td>\n",
       "      <td>2</td>\n",
       "      <td>26.0</td>\n",
       "      <td>average trip</td>\n",
       "      <td>9</td>\n",
       "      <td>late_morning ride</td>\n",
       "      <td>adult</td>\n",
       "    </tr>\n",
       "    <tr>\n",
       "      <th>4</th>\n",
       "      <td>4</td>\n",
       "      <td>VGBsb5</td>\n",
       "      <td>18024</td>\n",
       "      <td>Sat</td>\n",
       "      <td>18</td>\n",
       "      <td>2013-09-07 18:08:22</td>\n",
       "      <td>521</td>\n",
       "      <td>8 Ave &amp; W 31 St</td>\n",
       "      <td>40.750450</td>\n",
       "      <td>-73.994811</td>\n",
       "      <td>...</td>\n",
       "      <td>-73.979661</td>\n",
       "      <td>2296</td>\n",
       "      <td>Non-Subscriber</td>\n",
       "      <td>1978-01-01</td>\n",
       "      <td>0</td>\n",
       "      <td>36.0</td>\n",
       "      <td>long trip</td>\n",
       "      <td>38</td>\n",
       "      <td>early_evening ride</td>\n",
       "      <td>adult</td>\n",
       "    </tr>\n",
       "  </tbody>\n",
       "</table>\n",
       "<p>5 rows × 24 columns</p>\n",
       "</div>"
      ],
      "text/plain": [
       "   Unnamed: 0 trip_id  bike_id weekday  start_hour           start_time  \\\n",
       "0           0  LnQzQk    16013     Mon          18  2013-09-09 18:18:55   \n",
       "1           1  IL9boN    15230     Thu          18  2013-09-12 18:38:53   \n",
       "2           2  46clGB    17942     Wed          19  2013-09-18 19:44:04   \n",
       "3           3  v7vdFt    19683     Sat          11  2013-09-28 11:54:37   \n",
       "4           4  VGBsb5    18024     Sat          18  2013-09-07 18:08:22   \n",
       "\n",
       "   start_station_id       start_station_name  start_station_latitude  \\\n",
       "0               523          W 38 St & 8 Ave               40.754666   \n",
       "1               257  Lispenard St & Broadway               40.719392   \n",
       "2               479          9 Ave & W 45 St               40.760193   \n",
       "3               527          E 33 St & 1 Ave               40.743156   \n",
       "4               521          8 Ave & W 31 St               40.750450   \n",
       "\n",
       "   start_station_longitude  ... end_station_longitude  trip_duration  \\\n",
       "0               -73.991382  ...            -73.997262            993   \n",
       "1               -74.002472  ...            -73.987140            581   \n",
       "2               -73.991255  ...            -73.988639            361   \n",
       "3               -73.974347  ...            -73.967416            561   \n",
       "4               -73.994811  ...            -73.979661           2296   \n",
       "\n",
       "       subscriber  birth_year  gender   age    Trip Range trip_minutes  \\\n",
       "0      Subscriber  1968-01-01       2  46.0     long trip           16   \n",
       "1      Subscriber  1983-01-01       1  31.0  average trip            9   \n",
       "2      Subscriber  1989-01-01       1  25.0  average trip            6   \n",
       "3      Subscriber  1988-01-01       2  26.0  average trip            9   \n",
       "4  Non-Subscriber  1978-01-01       0  36.0     long trip           38   \n",
       "\n",
       "            trip_type    age_group  \n",
       "0  early_evening ride  middle-aged  \n",
       "1  early_evening ride        adult  \n",
       "2   late-evening ride  young adult  \n",
       "3   late_morning ride        adult  \n",
       "4  early_evening ride        adult  \n",
       "\n",
       "[5 rows x 24 columns]"
      ]
     },
     "execution_count": 48,
     "metadata": {},
     "output_type": "execute_result"
    }
   ],
   "source": [
    "data.head()"
   ]
  },
  {
   "cell_type": "code",
   "execution_count": 49,
   "id": "957abdbe",
   "metadata": {},
   "outputs": [],
   "source": [
    "# sort rentals by age group\n",
    "age_groups = data.groupby('age_group')['trip_id'].count()"
   ]
  },
  {
   "cell_type": "code",
   "execution_count": 50,
   "id": "1bf3121b",
   "metadata": {},
   "outputs": [
    {
     "data": {
      "text/plain": [
       "age_group\n",
       "adult          35446\n",
       "child             93\n",
       "elder            576\n",
       "middle-aged    10215\n",
       "young adult     3647\n",
       "Name: trip_id, dtype: int64"
      ]
     },
     "execution_count": 50,
     "metadata": {},
     "output_type": "execute_result"
    }
   ],
   "source": [
    "age_groups"
   ]
  },
  {
   "cell_type": "code",
   "execution_count": null,
   "id": "cf0c763f",
   "metadata": {},
   "outputs": [],
   "source": [
    "# export \n",
    "data.to_csv(os.path.join(path, '02 Data', 'Prepared Data', 'citibikes_fresh.csv'))"
   ]
  },
  {
   "cell_type": "code",
   "execution_count": 51,
   "id": "366a4dbf",
   "metadata": {},
   "outputs": [
    {
     "data": {
      "image/png": "[encoded data removed]",
      "text/plain": [
       "<Figure size 640x480 with 1 Axes>"
      ]
     },
     "metadata": {},
     "output_type": "display_data"
    }
   ],
   "source": [
    "# Create a bar chart\n",
    "plt.bar(age_groups.index, age_groups.values, color='blue')\n",
    "\n",
    "# Customize the chart\n",
    "plt.title('Trips by Age Group')\n",
    "plt.xlabel('Age Group')\n",
    "plt.ylabel('Number of Trips')\n",
    "\n",
    "# Save the chart to an image file (e.g., PNG)\n",
    "plt.savefig('Trips_by_Age_Group.png')\n",
    "\n",
    "# Show the chart\n",
    "plt.show()"
   ]
  },
  {
   "cell_type": "code",
   "execution_count": null,
   "id": "c4165b00",
   "metadata": {},
   "outputs": [],
   "source": []
  }
 ],
 "metadata": {
  "kernelspec": {
   "display_name": "Python 3 (ipykernel)",
   "language": "python",
   "name": "python3"
  },
  "language_info": {
   "codemirror_mode": {
    "name": "ipython",
    "version": 3
   },
   "file_extension": ".py",
   "mimetype": "text/x-python",
   "name": "python",
   "nbconvert_exporter": "python",
   "pygments_lexer": "ipython3",
   "version": "3.11.4"
  }
 },
 "nbformat": 4,
 "nbformat_minor": 5
}
